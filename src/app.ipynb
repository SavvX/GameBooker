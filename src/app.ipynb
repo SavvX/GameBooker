{
 "cells": [
  {
   "cell_type": "code",
   "execution_count": 2,
   "metadata": {},
   "outputs": [],
   "source": [
    "from flask import Flask, request, jsonify, render_template\n",
    "import random\n",
    "import string"
   ]
  },
  {
   "cell_type": "code",
   "execution_count": 3,
   "metadata": {},
   "outputs": [],
   "source": [
    "app = Flask(__name__)"
   ]
  },
  {
   "cell_type": "code",
   "execution_count": 4,
   "metadata": {},
   "outputs": [],
   "source": [
    "# Simulate a database\n",
    "PCs = [\n",
    "    {\"id\": 0, \"status\": \"available\", \"password\": None},\n",
    "    {\"id\": 1, \"status\": \"available\", \"password\": None},\n",
    "    {\"id\": 2, \"status\": \"available\", \"password\": None},\n",
    "    {\"id\": 3, \"status\": \"available\", \"password\": None},\n",
    "    {\"id\": 4, \"status\": \"available\", \"password\": None},\n",
    "    {\"id\": 5, \"status\": \"available\", \"password\": None},\n",
    "    {\"id\": 6, \"status\": \"available\", \"password\": None},\n",
    "    {\"id\": 7, \"status\": \"available\", \"password\": None},\n",
    "    {\"id\": 8, \"status\": \"available\", \"password\": None},\n",
    "    {\"id\": 9, \"status\": \"available\", \"password\": None},\n",
    "]"
   ]
  },
  {
   "cell_type": "code",
   "execution_count": 5,
   "metadata": {},
   "outputs": [],
   "source": [
    "# Generate a random password\n",
    "def generate_password(length=4):\n",
    "    characters = string.ascii_letters + string.digits\n",
    "    return \"\".join(random.choice(characters) for _ in range(length))"
   ]
  },
  {
   "cell_type": "code",
   "execution_count": 6,
   "metadata": {},
   "outputs": [],
   "source": [
    "@app.route(\"/\")\n",
    "def index():\n",
    "    return render_template(\"index.html\")"
   ]
  },
  {
   "cell_type": "code",
   "execution_count": 7,
   "metadata": {},
   "outputs": [],
   "source": [
    "@app.route(\"/reserve\", methods=[\"POST\"])\n",
    "def reserve():\n",
    "    pc_id = request.json.get(\"pcId\")\n",
    "    pc = next((pc for pc in PCs if pc[\"id\"] == pc_id), None)\n",
    "    if pc and pc[\"status\"] == \"available\":\n",
    "        pc[\"status\"] = \"reserved\"\n",
    "        pc[\"password\"] = generate_password()\n",
    "        return jsonify({\"success\": True, \"password\": pc[\"password\"]})\n",
    "    return jsonify({\"success\": False, \"message\": \"PC not available\"})"
   ]
  },
  {
   "cell_type": "code",
   "execution_count": 8,
   "metadata": {},
   "outputs": [
    {
     "name": "stdout",
     "output_type": "stream",
     "text": [
      " * Serving Flask app '__main__'\n",
      " * Debug mode: on\n"
     ]
    },
    {
     "name": "stderr",
     "output_type": "stream",
     "text": [
      "WARNING: This is a development server. Do not use it in a production deployment. Use a production WSGI server instead.\n",
      " * Running on http://127.0.0.1:5000\n",
      "Press CTRL+C to quit\n",
      " * Restarting with stat\n"
     ]
    },
    {
     "ename": "SystemExit",
     "evalue": "1",
     "output_type": "error",
     "traceback": [
      "An exception has occurred, use %tb to see the full traceback.\n",
      "\u001b[1;31mSystemExit\u001b[0m\u001b[1;31m:\u001b[0m 1\n"
     ]
    },
    {
     "name": "stderr",
     "output_type": "stream",
     "text": [
      "d:\\Anaconda\\envs\\GameBooker\\Lib\\site-packages\\IPython\\core\\interactiveshell.py:3585: UserWarning: To exit: use 'exit', 'quit', or Ctrl-D.\n",
      "  warn(\"To exit: use 'exit', 'quit', or Ctrl-D.\", stacklevel=1)\n"
     ]
    }
   ],
   "source": [
    "if __name__ == \"__main__\":\n",
    "    app.run(debug=True)"
   ]
  },
  {
   "cell_type": "code",
   "execution_count": null,
   "metadata": {},
   "outputs": [],
   "source": []
  }
 ],
 "metadata": {
  "kernelspec": {
   "display_name": "GameBooker",
   "language": "python",
   "name": "python3"
  },
  "language_info": {
   "codemirror_mode": {
    "name": "ipython",
    "version": 3
   },
   "file_extension": ".py",
   "mimetype": "text/x-python",
   "name": "python",
   "nbconvert_exporter": "python",
   "pygments_lexer": "ipython3",
   "version": "3.12.4"
  }
 },
 "nbformat": 4,
 "nbformat_minor": 2
}
