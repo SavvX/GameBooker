{
 "cells": [
  {
   "cell_type": "code",
   "execution_count": 1,
   "metadata": {},
   "outputs": [],
   "source": [
    "import pandas as pd\n",
    "from app import app, db, Reservation, DeviceStatus, User\n",
    "from datetime import datetime, timedelta\n"
   ]
  },
  {
   "cell_type": "code",
   "execution_count": 2,
   "metadata": {},
   "outputs": [],
   "source": [
    "xls = pd.ExcelFile('data/dataset.xlsx')\n",
    "df1 = pd.read_excel(xls, 'Formulierreacties 1')"
   ]
  },
  {
   "cell_type": "code",
   "execution_count": 3,
   "metadata": {},
   "outputs": [],
   "source": [
    "df1 = df1.drop(['Time of visit', 'Date of visit ', 'Free space for comments', 'Which game are you going to play?', 'Unnamed: 10', 'Unnamed: 11', 'Unnamed: 12','Unnamed: 13', 'Unnamed: 14', 'Unnamed: 15', 'Unnamed: 16', 'Unnamed: 17', 'Unnamed: 18', 'Unnamed: 19'], axis=1)"
   ]
  },
  {
   "cell_type": "code",
   "execution_count": 4,
   "metadata": {},
   "outputs": [
    {
     "data": {
      "text/plain": [
       "Index(['Tijdstempel', 'Full name', 'Student number',\n",
       "       'What PC/Console will you use?',\n",
       "       'Which university are you from? (If not from a uni, please let us know from where at the \"other\" section)',\n",
       "       'E-mailadres'],\n",
       "      dtype='object')"
      ]
     },
     "execution_count": 4,
     "metadata": {},
     "output_type": "execute_result"
    }
   ],
   "source": [
    "df1.columns"
   ]
  },
  {
   "cell_type": "code",
   "execution_count": 5,
   "metadata": {},
   "outputs": [
    {
     "name": "stdout",
     "output_type": "stream",
     "text": [
      "Reservations: [<Reservation 1 | Name: a | School: BUas | Email: a@email.com | Device: PC1 | Date: 2024-09-04 08:16:49.769020>, <Reservation 2 | Name: b | School: BUas | Email: a@email.com | Device: PC2 | Date: 2024-09-04 08:16:54.625392>, <Reservation 3 | Name: c | School: BUas | Email: a@email.com | Device: PC3 | Date: 2024-09-04 08:16:59.780324>, <Reservation 4 | Name: d | School: BUas | Email: a@email.com | Device: PC4 | Date: 2024-09-04 08:17:03.919225>]\n",
      "Device Statuses: [<DeviceStatus 1 | Device: PC1 | Status: Reserved>, <DeviceStatus 2 | Device: PC2 | Status: Reserved>, <DeviceStatus 3 | Device: PC3 | Status: Reserved>, <DeviceStatus 4 | Device: PC4 | Status: Reserved>]\n",
      "Users: [<User 1 | Username: admin>]\n",
      "Reservations in Last 24 Hours: [<Reservation 1 | Name: a | School: BUas | Email: a@email.com | Device: PC1 | Date: 2024-09-04 08:16:49.769020>, <Reservation 2 | Name: b | School: BUas | Email: a@email.com | Device: PC2 | Date: 2024-09-04 08:16:54.625392>, <Reservation 3 | Name: c | School: BUas | Email: a@email.com | Device: PC3 | Date: 2024-09-04 08:16:59.780324>, <Reservation 4 | Name: d | School: BUas | Email: a@email.com | Device: PC4 | Date: 2024-09-04 08:17:03.919225>]\n"
     ]
    }
   ],
   "source": [
    "with app.app_context():\n",
    "    # Query all reservations\n",
    "    reservations = Reservation.query.all()\n",
    "    print(\"Reservations:\", reservations)\n",
    "\n",
    "    # Query all device statuses\n",
    "    device_statuses = DeviceStatus.query.all()\n",
    "    print(\"Device Statuses:\", device_statuses)\n",
    "\n",
    "    # Query all users\n",
    "    users = User.query.all()\n",
    "    print(\"Users:\", users)\n",
    "\n",
    "    # Query reservations in the last 24 hours\n",
    "    end_date = datetime.now()\n",
    "    start_date = end_date - timedelta(days=1)\n",
    "    reservations_last_24_hours = Reservation.query.filter(\n",
    "        Reservation.date.between(start_date, end_date)\n",
    "    ).all()\n",
    "    print(\"Reservations in Last 24 Hours:\", reservations_last_24_hours)"
   ]
  },
  {
   "cell_type": "code",
   "execution_count": 6,
   "metadata": {},
   "outputs": [
    {
     "data": {
      "text/plain": [
       "<Reservation 1 | Name: a | School: BUas | Email: a@email.com | Device: PC1 | Date: 2024-09-04 08:16:49.769020>"
      ]
     },
     "execution_count": 6,
     "metadata": {},
     "output_type": "execute_result"
    }
   ],
   "source": [
    "reservations[0]"
   ]
  },
  {
   "cell_type": "code",
   "execution_count": null,
   "metadata": {},
   "outputs": [],
   "source": []
  }
 ],
 "metadata": {
  "kernelspec": {
   "display_name": "GameBooker",
   "language": "python",
   "name": "python3"
  },
  "language_info": {
   "codemirror_mode": {
    "name": "ipython",
    "version": 3
   },
   "file_extension": ".py",
   "mimetype": "text/x-python",
   "name": "python",
   "nbconvert_exporter": "python",
   "pygments_lexer": "ipython3",
   "version": "3.12.4"
  }
 },
 "nbformat": 4,
 "nbformat_minor": 2
}
