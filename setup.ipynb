{
 "cells": [
  {
   "cell_type": "code",
   "execution_count": 3,
   "metadata": {},
   "outputs": [
    {
     "name": "stdout",
     "output_type": "stream",
     "text": [
      "Collecting Flask-Login\n",
      "  Downloading Flask_Login-0.6.3-py3-none-any.whl.metadata (5.8 kB)\n",
      "Requirement already satisfied: Flask>=1.0.4 in c:\\users\\pc01\\appdata\\local\\anaconda3\\envs\\gamebooker\\lib\\site-packages (from Flask-Login) (3.0.3)\n",
      "Requirement already satisfied: Werkzeug>=1.0.1 in c:\\users\\pc01\\appdata\\local\\anaconda3\\envs\\gamebooker\\lib\\site-packages (from Flask-Login) (3.0.4)\n",
      "Requirement already satisfied: Jinja2>=3.1.2 in c:\\users\\pc01\\appdata\\local\\anaconda3\\envs\\gamebooker\\lib\\site-packages (from Flask>=1.0.4->Flask-Login) (3.1.4)\n",
      "Requirement already satisfied: itsdangerous>=2.1.2 in c:\\users\\pc01\\appdata\\local\\anaconda3\\envs\\gamebooker\\lib\\site-packages (from Flask>=1.0.4->Flask-Login) (2.2.0)\n",
      "Requirement already satisfied: click>=8.1.3 in c:\\users\\pc01\\appdata\\local\\anaconda3\\envs\\gamebooker\\lib\\site-packages (from Flask>=1.0.4->Flask-Login) (8.1.7)\n",
      "Requirement already satisfied: blinker>=1.6.2 in c:\\users\\pc01\\appdata\\local\\anaconda3\\envs\\gamebooker\\lib\\site-packages (from Flask>=1.0.4->Flask-Login) (1.8.2)\n",
      "Requirement already satisfied: MarkupSafe>=2.1.1 in c:\\users\\pc01\\appdata\\local\\anaconda3\\envs\\gamebooker\\lib\\site-packages (from Werkzeug>=1.0.1->Flask-Login) (2.1.5)\n",
      "Requirement already satisfied: colorama in c:\\users\\pc01\\appdata\\local\\anaconda3\\envs\\gamebooker\\lib\\site-packages (from click>=8.1.3->Flask>=1.0.4->Flask-Login) (0.4.6)\n",
      "Downloading Flask_Login-0.6.3-py3-none-any.whl (17 kB)\n",
      "Installing collected packages: Flask-Login\n",
      "Successfully installed Flask-Login-0.6.3\n",
      "Note: you may need to restart the kernel to use updated packages.\n"
     ]
    }
   ],
   "source": [
    "pip install Flask-Login"
   ]
  },
  {
   "cell_type": "code",
   "execution_count": null,
   "metadata": {},
   "outputs": [],
   "source": []
  }
 ],
 "metadata": {
  "kernelspec": {
   "display_name": "GameBooker",
   "language": "python",
   "name": "python3"
  },
  "language_info": {
   "codemirror_mode": {
    "name": "ipython",
    "version": 3
   },
   "file_extension": ".py",
   "mimetype": "text/x-python",
   "name": "python",
   "nbconvert_exporter": "python",
   "pygments_lexer": "ipython3",
   "version": "3.12.4"
  }
 },
 "nbformat": 4,
 "nbformat_minor": 2
}
